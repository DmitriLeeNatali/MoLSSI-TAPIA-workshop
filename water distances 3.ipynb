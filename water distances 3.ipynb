{
 "cells": [
  {
   "cell_type": "code",
   "execution_count": 1,
   "metadata": {},
   "outputs": [],
   "source": [
    "import os"
   ]
  },
  {
   "cell_type": "code",
   "execution_count": 2,
   "metadata": {},
   "outputs": [],
   "source": [
    "import numpy"
   ]
  },
  {
   "cell_type": "code",
   "execution_count": 85,
   "metadata": {},
   "outputs": [
    {
     "name": "stdout",
     "output_type": "stream",
     "text": [
      "benzene.xyz\n"
     ]
    }
   ],
   "source": [
    "A_0 = os.path.join('benzene.xyz')\n",
    "print(A_0)"
   ]
  },
  {
   "cell_type": "code",
   "execution_count": 127,
   "metadata": {},
   "outputs": [
    {
     "name": "stdout",
     "output_type": "stream",
     "text": [
      "['12' 'benzene example' 'C        0.00000        1.40272        0.00000'\n",
      " 'H        0.00000        2.49029        0.00000'\n",
      " 'C       -1.21479        0.70136        0.00000'\n",
      " 'H       -2.15666        1.24515        0.00000'\n",
      " 'C       -1.21479       -0.70136        0.00000'\n",
      " 'H       -2.15666       -1.24515        0.00000'\n",
      " 'C        0.00000       -1.40272        0.00000'\n",
      " 'H        0.00000       -2.49029        0.00000'\n",
      " 'C        1.21479       -0.70136        0.00000'\n",
      " 'H        2.15666       -1.24515        0.00000'\n",
      " 'C        1.21479        0.70136        0.00000'\n",
      " 'H        2.15666        1.24515        0.00000']\n"
     ]
    }
   ],
   "source": [
    "A_1 = numpy.genfromtxt(fname=A_0, delimiter=',', dtype='unicode')\n",
    "print(A_1)"
   ]
  },
  {
   "cell_type": "code",
   "execution_count": 134,
   "metadata": {},
   "outputs": [
    {
     "ename": "IndexError",
     "evalue": "too many indices for array",
     "output_type": "error",
     "traceback": [
      "\u001b[0;31m---------------------------------------------------------------------------\u001b[0m",
      "\u001b[0;31mIndexError\u001b[0m                                Traceback (most recent call last)",
      "\u001b[0;32m<ipython-input-134-90721c0a7326>\u001b[0m in \u001b[0;36m<module>\u001b[0;34m\u001b[0m\n\u001b[0;32m----> 1\u001b[0;31m \u001b[0mA_2\u001b[0m \u001b[0;34m=\u001b[0m \u001b[0mA_1\u001b[0m\u001b[0;34m[\u001b[0m\u001b[0;36m2\u001b[0m\u001b[0;34m:\u001b[0m\u001b[0;34m,\u001b[0m\u001b[0;36m1\u001b[0m\u001b[0;34m:\u001b[0m\u001b[0;36m3\u001b[0m\u001b[0;34m]\u001b[0m\u001b[0;34m\u001b[0m\u001b[0;34m\u001b[0m\u001b[0m\n\u001b[0m\u001b[1;32m      2\u001b[0m \u001b[0mprint\u001b[0m\u001b[0;34m(\u001b[0m\u001b[0mA_2\u001b[0m\u001b[0;34m)\u001b[0m\u001b[0;34m\u001b[0m\u001b[0;34m\u001b[0m\u001b[0m\n",
      "\u001b[0;31mIndexError\u001b[0m: too many indices for array"
     ]
    }
   ],
   "source": [
    "A_2 = A_1[2:,1:3]\n",
    "print(A_2)"
   ]
  },
  {
   "cell_type": "code",
   "execution_count": 135,
   "metadata": {},
   "outputs": [
    {
     "name": "stdout",
     "output_type": "stream",
     "text": [
      "['C        0.00000        1.40272        0.00000'\n",
      " 'H        0.00000        2.49029        0.00000'\n",
      " 'C       -1.21479        0.70136        0.00000'\n",
      " 'H       -2.15666        1.24515        0.00000'\n",
      " 'C       -1.21479       -0.70136        0.00000'\n",
      " 'H       -2.15666       -1.24515        0.00000'\n",
      " 'C        0.00000       -1.40272        0.00000'\n",
      " 'H        0.00000       -2.49029        0.00000'\n",
      " 'C        1.21479       -0.70136        0.00000'\n",
      " 'H        2.15666       -1.24515        0.00000'\n",
      " 'C        1.21479        0.70136        0.00000'\n",
      " 'H        2.15666        1.24515        0.00000']\n"
     ]
    }
   ],
   "source": [
    "A_3 = numpy.genfromtxt(fname=A_2, delimiter=',', dtype='unicode')\n",
    "print(A_3)"
   ]
  },
  {
   "cell_type": "code",
   "execution_count": 110,
   "metadata": {},
   "outputs": [
    {
     "ename": "ValueError",
     "evalue": "could not convert string to float: 'C        0.00000        1.40272        0.00000'",
     "output_type": "error",
     "traceback": [
      "\u001b[0;31m---------------------------------------------------------------------------\u001b[0m",
      "\u001b[0;31mValueError\u001b[0m                                Traceback (most recent call last)",
      "\u001b[0;32m<ipython-input-110-acb8cc3dc6df>\u001b[0m in \u001b[0;36m<module>\u001b[0;34m\u001b[0m\n\u001b[0;32m----> 1\u001b[0;31m \u001b[0mA_4\u001b[0m \u001b[0;34m=\u001b[0m \u001b[0mA_3\u001b[0m\u001b[0;34m.\u001b[0m\u001b[0mastype\u001b[0m\u001b[0;34m(\u001b[0m\u001b[0mnumpy\u001b[0m\u001b[0;34m.\u001b[0m\u001b[0mfloat\u001b[0m\u001b[0;34m)\u001b[0m\u001b[0;34m\u001b[0m\u001b[0;34m\u001b[0m\u001b[0m\n\u001b[0m",
      "\u001b[0;31mValueError\u001b[0m: could not convert string to float: 'C        0.00000        1.40272        0.00000'"
     ]
    }
   ],
   "source": [
    "A_4 = A_3.astype(numpy.float)"
   ]
  },
  {
   "cell_type": "code",
   "execution_count": null,
   "metadata": {},
   "outputs": [],
   "source": []
  },
  {
   "cell_type": "code",
   "execution_count": null,
   "metadata": {},
   "outputs": [],
   "source": []
  }
 ],
 "metadata": {
  "kernelspec": {
   "display_name": "Python 3",
   "language": "python",
   "name": "python3"
  },
  "language_info": {
   "codemirror_mode": {
    "name": "ipython",
    "version": 3
   },
   "file_extension": ".py",
   "mimetype": "text/x-python",
   "name": "python",
   "nbconvert_exporter": "python",
   "pygments_lexer": "ipython3",
   "version": "3.7.3"
  }
 },
 "nbformat": 4,
 "nbformat_minor": 2
}
